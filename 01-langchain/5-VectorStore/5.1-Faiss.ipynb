{
 "cells": [
  {
   "cell_type": "markdown",
   "metadata": {},
   "source": [
    "#### Faiss\n",
    "Facebook AI Similarity Search (Faiss) is a library for efficient similarity search and clustering of dense vectors. It contains algorithms that search in sets of vectors of any size, up to ones that possibly do not fit in RAM. It also contains supporting code for evaluation and parameter tuning."
   ]
  },
  {
   "cell_type": "code",
   "execution_count": 13,
   "metadata": {},
   "outputs": [],
   "source": [
    "from langchain_community.document_loaders import TextLoader\n",
    "from langchain_community.vectorstores import FAISS\n",
    "from langchain_community.embeddings import OllamaEmbeddings, HuggingFaceEmbeddings\n",
    "from langchain_text_splitters import CharacterTextSplitter\n",
    "\n",
    "loader=TextLoader(\"speech.txt\")\n",
    "documents=loader.load()\n",
    "text_splitter=CharacterTextSplitter(chunk_size=1000,chunk_overlap=30)\n",
    "docs=text_splitter.split_documents(documents)\n"
   ]
  },
  {
   "cell_type": "code",
   "execution_count": 14,
   "metadata": {},
   "outputs": [
    {
     "data": {
      "text/plain": [
       "[Document(metadata={'source': 'speech.txt'}, page_content='The world must be made safe for democracy. Its peace must be planted upon the tested foundations of political liberty. We have no selfish ends to serve. We desire no conquest, no dominion. We seek no indemnities for ourselves, no material compensation for the sacrifices we shall freely make. We are but one of the champions of the rights of mankind. We shall be satisfied when those rights have been made as secure as the faith and the freedom of nations can make them.\\n\\nJust because we fight without rancor and without selfish object, seeking nothing for ourselves but what we shall wish to share with all free peoples, we shall, I feel confident, conduct our operations as belligerents without passion and ourselves observe with proud punctilio the principles of right and of fair play we profess to be fighting for.\\n\\nâ€¦'),\n",
       " Document(metadata={'source': 'speech.txt'}, page_content='â€¦\\n\\nIt will be all the easier for us to conduct ourselves as belligerents in a high spirit of right and fairness because we act without animus, not in enmity toward a people or with the desire to bring any injury or disadvantage upon them, but only in armed opposition to an irresponsible government which has thrown aside all considerations of humanity and of right and is running amuck. We are, let me say again, the sincere friends of the German people, and shall desire nothing so much as the early reestablishment of intimate relations of mutual advantage between usâ€”however hard it may be for them, for the time being, to believe that this is spoken from our hearts.'),\n",
       " Document(metadata={'source': 'speech.txt'}, page_content='We have borne with their present government through all these bitter months because of that friendshipâ€”exercising a patience and forbearance which would otherwise have been impossible. We shall, happily, still have an opportunity to prove that friendship in our daily attitude and actions toward the millions of men and women of German birth and native sympathy who live among us and share our life, and we shall be proud to prove it toward all who are in fact loyal to their neighbors and to the government in the hour of test. They are, most of them, as true and loyal Americans as if they had never known any other fealty or allegiance. They will be prompt to stand with us in rebuking and restraining the few who may be of a different mind and purpose. If there should be disloyalty, it will be dealt with with a firm hand of stern repression; but, if it lifts its head at all, it will lift it only here and there and without countenance except from a lawless and malignant few.'),\n",
       " Document(metadata={'source': 'speech.txt'}, page_content='It is a distressing and oppressive duty, gentlemen of the Congress, which I have performed in thus addressing you. There are, it may be, many months of fiery trial and sacrifice ahead of us. It is a fearful thing to lead this great peaceful people into war, into the most terrible and disastrous of all wars, civilization itself seeming to be in the balance. But the right is more precious than peace, and we shall fight for the things which we have always carried nearest our heartsâ€”for democracy, for the right of those who submit to authority to have a voice in their own governments, for the rights and liberties of small nations, for a universal dominion of right by such a concert of free peoples as shall bring peace and safety to all nations and make the world itself at last free.'),\n",
       " Document(metadata={'source': 'speech.txt'}, page_content='To such a task we can dedicate our lives and our fortunes, everything that we are and everything that we have, with the pride of those who know that the day has come when America is privileged to spend her blood and her might for the principles that gave her birth and happiness and the peace which she has treasured. God helping her, she can do no other.')]"
      ]
     },
     "execution_count": 14,
     "metadata": {},
     "output_type": "execute_result"
    }
   ],
   "source": [
    "docs"
   ]
  },
  {
   "cell_type": "code",
   "execution_count": 16,
   "metadata": {},
   "outputs": [
    {
     "data": {
      "text/plain": [
       "<langchain_community.vectorstores.faiss.FAISS at 0x1dd8af3b510>"
      ]
     },
     "execution_count": 16,
     "metadata": {},
     "output_type": "execute_result"
    }
   ],
   "source": [
    "# embeddings=OllamaEmbeddings(model=\"llama3.2\")\n",
    "\n",
    "\n",
    "embeddings = HuggingFaceEmbeddings(model_name=\"sentence-transformers/all-MiniLM-L6-v2\")  # Example with HuggingFace embeddings\n",
    "db=FAISS.from_documents(docs,embeddings)\n",
    "db"
   ]
  },
  {
   "cell_type": "code",
   "execution_count": 18,
   "metadata": {},
   "outputs": [
    {
     "data": {
      "text/plain": [
       "'It is a distressing and oppressive duty, gentlemen of the Congress, which I have performed in thus addressing you. There are, it may be, many months of fiery trial and sacrifice ahead of us. It is a fearful thing to lead this great peaceful people into war, into the most terrible and disastrous of all wars, civilization itself seeming to be in the balance. But the right is more precious than peace, and we shall fight for the things which we have always carried nearest our heartsâ€”for democracy, for the right of those who submit to authority to have a voice in their own governments, for the rights and liberties of small nations, for a universal dominion of right by such a concert of free peoples as shall bring peace and safety to all nations and make the world itself at last free.'"
      ]
     },
     "execution_count": 18,
     "metadata": {},
     "output_type": "execute_result"
    }
   ],
   "source": [
    "### querying \n",
    "query=\"How does the speaker describe the desired outcome of the war?\"\n",
    "docs=db.similarity_search(query)\n",
    "docs[0].page_content\n"
   ]
  },
  {
   "cell_type": "code",
   "execution_count": 19,
   "metadata": {},
   "outputs": [
    {
     "data": {
      "text/plain": [
       "[Document(id='350a7cba-2842-4d25-9342-1b599cef728d', metadata={'source': 'speech.txt'}, page_content='It is a distressing and oppressive duty, gentlemen of the Congress, which I have performed in thus addressing you. There are, it may be, many months of fiery trial and sacrifice ahead of us. It is a fearful thing to lead this great peaceful people into war, into the most terrible and disastrous of all wars, civilization itself seeming to be in the balance. But the right is more precious than peace, and we shall fight for the things which we have always carried nearest our heartsâ€”for democracy, for the right of those who submit to authority to have a voice in their own governments, for the rights and liberties of small nations, for a universal dominion of right by such a concert of free peoples as shall bring peace and safety to all nations and make the world itself at last free.'),\n",
       " Document(id='9c5f623b-88a6-4402-b0d3-8889639a0183', metadata={'source': 'speech.txt'}, page_content='The world must be made safe for democracy. Its peace must be planted upon the tested foundations of political liberty. We have no selfish ends to serve. We desire no conquest, no dominion. We seek no indemnities for ourselves, no material compensation for the sacrifices we shall freely make. We are but one of the champions of the rights of mankind. We shall be satisfied when those rights have been made as secure as the faith and the freedom of nations can make them.\\n\\nJust because we fight without rancor and without selfish object, seeking nothing for ourselves but what we shall wish to share with all free peoples, we shall, I feel confident, conduct our operations as belligerents without passion and ourselves observe with proud punctilio the principles of right and of fair play we profess to be fighting for.\\n\\nâ€¦'),\n",
       " Document(id='d3e94c21-5db1-4cee-910b-c34a872d7522', metadata={'source': 'speech.txt'}, page_content='â€¦\\n\\nIt will be all the easier for us to conduct ourselves as belligerents in a high spirit of right and fairness because we act without animus, not in enmity toward a people or with the desire to bring any injury or disadvantage upon them, but only in armed opposition to an irresponsible government which has thrown aside all considerations of humanity and of right and is running amuck. We are, let me say again, the sincere friends of the German people, and shall desire nothing so much as the early reestablishment of intimate relations of mutual advantage between usâ€”however hard it may be for them, for the time being, to believe that this is spoken from our hearts.'),\n",
       " Document(id='a748927c-ba05-429c-9016-75459c984891', metadata={'source': 'speech.txt'}, page_content='We have borne with their present government through all these bitter months because of that friendshipâ€”exercising a patience and forbearance which would otherwise have been impossible. We shall, happily, still have an opportunity to prove that friendship in our daily attitude and actions toward the millions of men and women of German birth and native sympathy who live among us and share our life, and we shall be proud to prove it toward all who are in fact loyal to their neighbors and to the government in the hour of test. They are, most of them, as true and loyal Americans as if they had never known any other fealty or allegiance. They will be prompt to stand with us in rebuking and restraining the few who may be of a different mind and purpose. If there should be disloyalty, it will be dealt with with a firm hand of stern repression; but, if it lifts its head at all, it will lift it only here and there and without countenance except from a lawless and malignant few.')]"
      ]
     },
     "execution_count": 19,
     "metadata": {},
     "output_type": "execute_result"
    }
   ],
   "source": [
    "docs"
   ]
  },
  {
   "cell_type": "markdown",
   "metadata": {},
   "source": [
    "#### As a Retriever\n",
    "We can also convert the vectorstore into a Retriever class. This allows us to easily use it in other LangChain methods, which largely work with retrievers"
   ]
  },
  {
   "cell_type": "code",
   "execution_count": 20,
   "metadata": {},
   "outputs": [
    {
     "data": {
      "text/plain": [
       "'It is a distressing and oppressive duty, gentlemen of the Congress, which I have performed in thus addressing you. There are, it may be, many months of fiery trial and sacrifice ahead of us. It is a fearful thing to lead this great peaceful people into war, into the most terrible and disastrous of all wars, civilization itself seeming to be in the balance. But the right is more precious than peace, and we shall fight for the things which we have always carried nearest our heartsâ€”for democracy, for the right of those who submit to authority to have a voice in their own governments, for the rights and liberties of small nations, for a universal dominion of right by such a concert of free peoples as shall bring peace and safety to all nations and make the world itself at last free.'"
      ]
     },
     "execution_count": 20,
     "metadata": {},
     "output_type": "execute_result"
    }
   ],
   "source": [
    "retriever=db.as_retriever()\n",
    "docs=retriever.invoke(query)\n",
    "docs[0].page_content"
   ]
  },
  {
   "cell_type": "markdown",
   "metadata": {},
   "source": [
    "#### Similarity Search with score\n",
    "There are some FAISS specific methods. One of them is similarity_search_with_score, which allows you to return not only the documents but also the distance score of the query to them. The returned distance score is L2 distance. Therefore, a lower score is better."
   ]
  },
  {
   "cell_type": "code",
   "execution_count": 21,
   "metadata": {},
   "outputs": [
    {
     "data": {
      "text/plain": [
       "[(Document(id='350a7cba-2842-4d25-9342-1b599cef728d', metadata={'source': 'speech.txt'}, page_content='It is a distressing and oppressive duty, gentlemen of the Congress, which I have performed in thus addressing you. There are, it may be, many months of fiery trial and sacrifice ahead of us. It is a fearful thing to lead this great peaceful people into war, into the most terrible and disastrous of all wars, civilization itself seeming to be in the balance. But the right is more precious than peace, and we shall fight for the things which we have always carried nearest our heartsâ€”for democracy, for the right of those who submit to authority to have a voice in their own governments, for the rights and liberties of small nations, for a universal dominion of right by such a concert of free peoples as shall bring peace and safety to all nations and make the world itself at last free.'),\n",
       "  np.float32(1.3070924)),\n",
       " (Document(id='9c5f623b-88a6-4402-b0d3-8889639a0183', metadata={'source': 'speech.txt'}, page_content='The world must be made safe for democracy. Its peace must be planted upon the tested foundations of political liberty. We have no selfish ends to serve. We desire no conquest, no dominion. We seek no indemnities for ourselves, no material compensation for the sacrifices we shall freely make. We are but one of the champions of the rights of mankind. We shall be satisfied when those rights have been made as secure as the faith and the freedom of nations can make them.\\n\\nJust because we fight without rancor and without selfish object, seeking nothing for ourselves but what we shall wish to share with all free peoples, we shall, I feel confident, conduct our operations as belligerents without passion and ourselves observe with proud punctilio the principles of right and of fair play we profess to be fighting for.\\n\\nâ€¦'),\n",
       "  np.float32(1.3074685)),\n",
       " (Document(id='d3e94c21-5db1-4cee-910b-c34a872d7522', metadata={'source': 'speech.txt'}, page_content='â€¦\\n\\nIt will be all the easier for us to conduct ourselves as belligerents in a high spirit of right and fairness because we act without animus, not in enmity toward a people or with the desire to bring any injury or disadvantage upon them, but only in armed opposition to an irresponsible government which has thrown aside all considerations of humanity and of right and is running amuck. We are, let me say again, the sincere friends of the German people, and shall desire nothing so much as the early reestablishment of intimate relations of mutual advantage between usâ€”however hard it may be for them, for the time being, to believe that this is spoken from our hearts.'),\n",
       "  np.float32(1.4272647)),\n",
       " (Document(id='a748927c-ba05-429c-9016-75459c984891', metadata={'source': 'speech.txt'}, page_content='We have borne with their present government through all these bitter months because of that friendshipâ€”exercising a patience and forbearance which would otherwise have been impossible. We shall, happily, still have an opportunity to prove that friendship in our daily attitude and actions toward the millions of men and women of German birth and native sympathy who live among us and share our life, and we shall be proud to prove it toward all who are in fact loyal to their neighbors and to the government in the hour of test. They are, most of them, as true and loyal Americans as if they had never known any other fealty or allegiance. They will be prompt to stand with us in rebuking and restraining the few who may be of a different mind and purpose. If there should be disloyalty, it will be dealt with with a firm hand of stern repression; but, if it lifts its head at all, it will lift it only here and there and without countenance except from a lawless and malignant few.'),\n",
       "  np.float32(1.4842186))]"
      ]
     },
     "execution_count": 21,
     "metadata": {},
     "output_type": "execute_result"
    }
   ],
   "source": [
    "docs_and_score=db.similarity_search_with_score(query)\n",
    "docs_and_score"
   ]
  },
  {
   "cell_type": "code",
   "execution_count": 22,
   "metadata": {},
   "outputs": [
    {
     "data": {
      "text/plain": [
       "[-0.04968956485390663,\n",
       " 0.10655160248279572,\n",
       " 0.0015431311912834644,\n",
       " -0.013194367289543152,\n",
       " -0.044387806206941605,\n",
       " 0.05857321247458458,\n",
       " 0.04666464403271675,\n",
       " -0.024530664086341858,\n",
       " 0.004829435609281063,\n",
       " 0.020339984446763992,\n",
       " -0.03410932421684265,\n",
       " 0.03873789682984352,\n",
       " 0.0166188795119524,\n",
       " -0.018834836781024933,\n",
       " -0.0071430327370762825,\n",
       " 0.006980098783969879,\n",
       " 0.020850064232945442,\n",
       " -0.035205334424972534,\n",
       " 0.004866397473961115,\n",
       " -0.007269797846674919,\n",
       " 0.07890864461660385,\n",
       " 0.05607709288597107,\n",
       " 0.06984829902648926,\n",
       " 0.01655665412545204,\n",
       " 0.013394530862569809,\n",
       " -0.012157340534031391,\n",
       " -0.020828330889344215,\n",
       " 0.05277484282851219,\n",
       " -0.020383469760417938,\n",
       " 0.02614760398864746,\n",
       " 0.04590851813554764,\n",
       " -0.017534684389829636,\n",
       " 0.016683515161275864,\n",
       " 0.0021405972074717283,\n",
       " 0.0065229954198002815,\n",
       " 0.0013917492469772696,\n",
       " -0.05417177453637123,\n",
       " -0.016581423580646515,\n",
       " -0.011631499044597149,\n",
       " -0.020481353625655174,\n",
       " -0.0529186986386776,\n",
       " -0.03948398306965828,\n",
       " 0.01654801331460476,\n",
       " 0.040534865111112595,\n",
       " 0.0166084636002779,\n",
       " -0.008588043041527271,\n",
       " -0.07194805890321732,\n",
       " -0.020818252116441727,\n",
       " 0.03431754559278488,\n",
       " 0.06002294272184372,\n",
       " 0.003837088355794549,\n",
       " -0.026614978909492493,\n",
       " -0.042099013924598694,\n",
       " -0.008091953583061695,\n",
       " 0.024120010435581207,\n",
       " 0.018459513783454895,\n",
       " -0.0007198493694886565,\n",
       " -0.015244483016431332,\n",
       " 0.05227900296449661,\n",
       " -0.06365309655666351,\n",
       " -0.06733887642621994,\n",
       " -0.035789765417575836,\n",
       " -0.03221793472766876,\n",
       " 0.0381305068731308,\n",
       " 0.0801166445016861,\n",
       " -0.09226544201374054,\n",
       " 0.06047753244638443,\n",
       " 0.0050833700224757195,\n",
       " -0.14830133318901062,\n",
       " 0.034614965319633484,\n",
       " 0.034969426691532135,\n",
       " 0.005888395477086306,\n",
       " 0.03481709957122803,\n",
       " -0.027088358998298645,\n",
       " -0.038823794573545456,\n",
       " -0.0730341300368309,\n",
       " 0.06783783435821533,\n",
       " 0.03408123180270195,\n",
       " 0.0679539293050766,\n",
       " 0.029749179258942604,\n",
       " -0.0024259788915514946,\n",
       " 0.04780043661594391,\n",
       " -0.05470486730337143,\n",
       " -0.0013395383721217513,\n",
       " 0.048449136316776276,\n",
       " -0.06261465698480606,\n",
       " 0.03335796296596527,\n",
       " -0.03339584916830063,\n",
       " 0.09458700567483902,\n",
       " 0.017070075497031212,\n",
       " -0.11008675396442413,\n",
       " -0.07153696566820145,\n",
       " 0.0004784035845659673,\n",
       " 0.08610854297876358,\n",
       " 0.0010623332345858216,\n",
       " 0.10450997203588486,\n",
       " 0.039007678627967834,\n",
       " -0.045626141130924225,\n",
       " -0.0066804056987166405,\n",
       " 0.03852367773652077,\n",
       " 0.0852799192070961,\n",
       " -0.052721746265888214,\n",
       " -0.00976521521806717,\n",
       " -0.12066509574651718,\n",
       " -0.05246085301041603,\n",
       " -0.0926654115319252,\n",
       " -0.11859235167503357,\n",
       " 0.011005155742168427,\n",
       " -0.0869787186384201,\n",
       " -0.021262992173433304,\n",
       " -0.07697580754756927,\n",
       " -0.06261378526687622,\n",
       " 0.055639345198869705,\n",
       " -0.0029563400894403458,\n",
       " 0.02658003754913807,\n",
       " 0.04864496365189552,\n",
       " 0.010411773808300495,\n",
       " -0.05376354604959488,\n",
       " -0.049150239676237106,\n",
       " 0.009690014645457268,\n",
       " 0.023431317880749702,\n",
       " -0.02910267747938633,\n",
       " -0.037017274647951126,\n",
       " 0.03960449621081352,\n",
       " -0.10435163974761963,\n",
       " -0.004033363424241543,\n",
       " 0.016636516898870468,\n",
       " -6.36961009649845e-33,\n",
       " 0.00883645098656416,\n",
       " -0.08554958552122116,\n",
       " -0.02277614176273346,\n",
       " 0.09592984616756439,\n",
       " -0.03410530835390091,\n",
       " -0.06610921770334244,\n",
       " -0.01817101240158081,\n",
       " -0.012800795026123524,\n",
       " 0.03468910977244377,\n",
       " 0.01622718945145607,\n",
       " -0.0887022390961647,\n",
       " 0.011362682096660137,\n",
       " -0.017306525260210037,\n",
       " 0.07740607112646103,\n",
       " -0.013215330429375172,\n",
       " -0.04684646055102348,\n",
       " -0.1255597621202469,\n",
       " 0.11586085706949234,\n",
       " -0.02400106191635132,\n",
       " -0.002280662301927805,\n",
       " -0.007758092135190964,\n",
       " 0.07176674157381058,\n",
       " -0.011153569445014,\n",
       " -0.050995636731386185,\n",
       " 0.09885232895612717,\n",
       " -0.024501651525497437,\n",
       " -0.026938356459140778,\n",
       " -0.046887703239917755,\n",
       " -0.07213155180215836,\n",
       " 0.021641716361045837,\n",
       " 0.015326686203479767,\n",
       " 0.05237612873315811,\n",
       " -0.011739520356059074,\n",
       " -0.07739460468292236,\n",
       " 0.03386292606592178,\n",
       " 0.004384655971080065,\n",
       " -0.08467359840869904,\n",
       " 0.03419150412082672,\n",
       " -0.0459534153342247,\n",
       " -0.016092199832201004,\n",
       " -0.007048856467008591,\n",
       " 0.03298019990324974,\n",
       " -0.04627719894051552,\n",
       " 0.058439888060092926,\n",
       " 0.11373348534107208,\n",
       " -0.018407924100756645,\n",
       " -0.03152962028980255,\n",
       " 0.008662684820592403,\n",
       " -0.0828811377286911,\n",
       " 0.007867749780416489,\n",
       " 0.020669186487793922,\n",
       " -0.038477424532175064,\n",
       " -0.01094081997871399,\n",
       " -0.02171754091978073,\n",
       " 0.06240149959921837,\n",
       " 0.010671611875295639,\n",
       " 0.0037418853025883436,\n",
       " 0.038628220558166504,\n",
       " -0.0763152539730072,\n",
       " -0.07028999924659729,\n",
       " 0.08373189717531204,\n",
       " -0.02405097894370556,\n",
       " 0.004546786192804575,\n",
       " 0.0172612052410841,\n",
       " 0.005986057221889496,\n",
       " -0.0006542687769979239,\n",
       " -0.07095982134342194,\n",
       " -0.0420428141951561,\n",
       " -0.010355223901569843,\n",
       " -0.0019509581616148353,\n",
       " -0.02845817618072033,\n",
       " -0.005286455154418945,\n",
       " 0.0211451668292284,\n",
       " -0.048719123005867004,\n",
       " -0.06939789652824402,\n",
       " 0.027359630912542343,\n",
       " 0.031494323164224625,\n",
       " 0.015950515866279602,\n",
       " 0.008966405875980854,\n",
       " -0.07781250774860382,\n",
       " -0.024621549993753433,\n",
       " 0.008865400217473507,\n",
       " -0.011971933767199516,\n",
       " 0.042665787041187286,\n",
       " 0.026071015745401382,\n",
       " 0.009535953402519226,\n",
       " 0.018895916640758514,\n",
       " -0.16765503585338593,\n",
       " -0.008695420809090137,\n",
       " -0.011096074245870113,\n",
       " -0.024971134960651398,\n",
       " 0.018924707546830177,\n",
       " 0.0019128030398860574,\n",
       " 0.021822962909936905,\n",
       " -0.005207372363656759,\n",
       " 3.102783093210677e-33,\n",
       " -0.025049958378076553,\n",
       " 0.08713044971227646,\n",
       " -0.03531034290790558,\n",
       " 0.013343408703804016,\n",
       " -0.020747991278767586,\n",
       " 0.03208636865019798,\n",
       " -0.0012192139402031898,\n",
       " -0.06633254140615463,\n",
       " 0.0012947601499035954,\n",
       " 0.00837759580463171,\n",
       " -0.05381045490503311,\n",
       " -0.00914375577121973,\n",
       " 0.013526379130780697,\n",
       " 0.07555443793535233,\n",
       " -0.09260720759630203,\n",
       " 0.003982948139309883,\n",
       " 0.11045368760824203,\n",
       " -0.040738046169281006,\n",
       " 0.05483686923980713,\n",
       " 0.011620068922638893,\n",
       " 0.024469327181577682,\n",
       " 0.03903298079967499,\n",
       " -0.0442991703748703,\n",
       " -0.025401929393410683,\n",
       " 0.02841706946492195,\n",
       " -0.0004603728884831071,\n",
       " 0.08898742496967316,\n",
       " -0.053402163088321686,\n",
       " -0.06847111135721207,\n",
       " -0.047010790556669235,\n",
       " 0.06081134453415871,\n",
       " -0.12055221199989319,\n",
       " -0.10110338777303696,\n",
       " 0.08338984102010727,\n",
       " 0.08778923749923706,\n",
       " 0.06426263600587845,\n",
       " 0.12884435057640076,\n",
       " -0.016380123794078827,\n",
       " -0.008810500614345074,\n",
       " 0.010351445525884628,\n",
       " -0.001026393729262054,\n",
       " -0.07394358515739441,\n",
       " -0.041477371007204056,\n",
       " 0.06341864168643951,\n",
       " -0.06482366472482681,\n",
       " -0.01865595579147339,\n",
       " 0.023472048342227936,\n",
       " 0.007307704072445631,\n",
       " 0.03819796070456505,\n",
       " -0.04428873583674431,\n",
       " 0.048967376351356506,\n",
       " 0.052819691598415375,\n",
       " -0.025685327127575874,\n",
       " 0.06258335709571838,\n",
       " -0.0724131390452385,\n",
       " -0.06950842589139938,\n",
       " -0.04242734611034393,\n",
       " -0.11369173228740692,\n",
       " 0.028540628030896187,\n",
       " 0.06412238627672195,\n",
       " -0.09406901895999908,\n",
       " 0.007396722212433815,\n",
       " 0.019351230934262276,\n",
       " -0.013142861425876617,\n",
       " -0.030121169984340668,\n",
       " -0.018660785630345345,\n",
       " -0.06589303910732269,\n",
       " 0.017889568582177162,\n",
       " 0.09260284900665283,\n",
       " 0.05105120688676834,\n",
       " 0.021899305284023285,\n",
       " 0.006342378444969654,\n",
       " -0.06039018556475639,\n",
       " 0.01123411301523447,\n",
       " 0.11327600479125977,\n",
       " -0.021105270832777023,\n",
       " 0.011921228840947151,\n",
       " -0.04652688279747963,\n",
       " -0.08982110768556595,\n",
       " 0.03627883642911911,\n",
       " -0.038885630667209625,\n",
       " -0.010799246840178967,\n",
       " -0.018644850701093674,\n",
       " -0.0038778234738856554,\n",
       " -0.04751798138022423,\n",
       " -0.005650295410305262,\n",
       " -0.016652420163154602,\n",
       " 0.027878567576408386,\n",
       " 0.05258629098534584,\n",
       " 0.012349439784884453,\n",
       " -0.008337469771504402,\n",
       " -0.04975002259016037,\n",
       " 0.03504402935504913,\n",
       " -0.015523415990173817,\n",
       " -0.028878668323159218,\n",
       " -2.008586719171035e-08,\n",
       " -0.03732406347990036,\n",
       " 0.030643895268440247,\n",
       " 0.05524386465549469,\n",
       " 0.02315477281808853,\n",
       " -0.06826384365558624,\n",
       " -0.01342526450753212,\n",
       " 0.0029925100971013308,\n",
       " -0.09045083075761795,\n",
       " 0.0023582542780786753,\n",
       " 0.005629724357277155,\n",
       " 0.026615051552653313,\n",
       " 0.08618813753128052,\n",
       " -0.00979098305106163,\n",
       " 0.06753557175397873,\n",
       " -0.006173287518322468,\n",
       " 0.1116204634308815,\n",
       " 0.012379121035337448,\n",
       " 0.000982728786766529,\n",
       " -0.05360973998904228,\n",
       " -0.041837096214294434,\n",
       " 0.07604701817035675,\n",
       " 0.009298968128859997,\n",
       " -0.030828842893242836,\n",
       " -0.020871464163064957,\n",
       " 0.03194159269332886,\n",
       " 0.06118465214967728,\n",
       " -0.022117219865322113,\n",
       " 0.04554176703095436,\n",
       " -0.01985688880085945,\n",
       " 0.11220898479223251,\n",
       " 0.0392330065369606,\n",
       " 0.07998447120189667,\n",
       " -0.07817388325929642,\n",
       " -0.0529186986386776,\n",
       " -0.054033488035202026,\n",
       " 0.09736301004886627,\n",
       " 0.0005142802256159484,\n",
       " -0.02971315011382103,\n",
       " 0.08892914652824402,\n",
       " -0.03440149128437042,\n",
       " 0.0070203556679189205,\n",
       " 0.19277498126029968,\n",
       " 0.05682136118412018,\n",
       " 0.06480943411588669,\n",
       " 0.08113457262516022,\n",
       " 0.06076311320066452,\n",
       " -0.0037309539038687944,\n",
       " -0.00401646364480257,\n",
       " -0.03438615798950195,\n",
       " -0.03474358469247818,\n",
       " -0.01767360232770443,\n",
       " 0.00969958957284689,\n",
       " 0.004195397719740868,\n",
       " 0.06806442886590958,\n",
       " 0.037425458431243896,\n",
       " 0.007503470405936241,\n",
       " 0.049256984144449234,\n",
       " 0.027800429612398148,\n",
       " 0.03327222913503647,\n",
       " 0.062243975698947906,\n",
       " 0.03058617003262043,\n",
       " 0.054695528000593185,\n",
       " -0.015176289714872837,\n",
       " -0.01097270380705595]"
      ]
     },
     "execution_count": 22,
     "metadata": {},
     "output_type": "execute_result"
    }
   ],
   "source": [
    "embedding_vector=embeddings.embed_query(query)\n",
    "embedding_vector"
   ]
  },
  {
   "cell_type": "code",
   "execution_count": 23,
   "metadata": {},
   "outputs": [
    {
     "data": {
      "text/plain": [
       "[Document(id='350a7cba-2842-4d25-9342-1b599cef728d', metadata={'source': 'speech.txt'}, page_content='It is a distressing and oppressive duty, gentlemen of the Congress, which I have performed in thus addressing you. There are, it may be, many months of fiery trial and sacrifice ahead of us. It is a fearful thing to lead this great peaceful people into war, into the most terrible and disastrous of all wars, civilization itself seeming to be in the balance. But the right is more precious than peace, and we shall fight for the things which we have always carried nearest our heartsâ€”for democracy, for the right of those who submit to authority to have a voice in their own governments, for the rights and liberties of small nations, for a universal dominion of right by such a concert of free peoples as shall bring peace and safety to all nations and make the world itself at last free.'),\n",
       " Document(id='9c5f623b-88a6-4402-b0d3-8889639a0183', metadata={'source': 'speech.txt'}, page_content='The world must be made safe for democracy. Its peace must be planted upon the tested foundations of political liberty. We have no selfish ends to serve. We desire no conquest, no dominion. We seek no indemnities for ourselves, no material compensation for the sacrifices we shall freely make. We are but one of the champions of the rights of mankind. We shall be satisfied when those rights have been made as secure as the faith and the freedom of nations can make them.\\n\\nJust because we fight without rancor and without selfish object, seeking nothing for ourselves but what we shall wish to share with all free peoples, we shall, I feel confident, conduct our operations as belligerents without passion and ourselves observe with proud punctilio the principles of right and of fair play we profess to be fighting for.\\n\\nâ€¦'),\n",
       " Document(id='d3e94c21-5db1-4cee-910b-c34a872d7522', metadata={'source': 'speech.txt'}, page_content='â€¦\\n\\nIt will be all the easier for us to conduct ourselves as belligerents in a high spirit of right and fairness because we act without animus, not in enmity toward a people or with the desire to bring any injury or disadvantage upon them, but only in armed opposition to an irresponsible government which has thrown aside all considerations of humanity and of right and is running amuck. We are, let me say again, the sincere friends of the German people, and shall desire nothing so much as the early reestablishment of intimate relations of mutual advantage between usâ€”however hard it may be for them, for the time being, to believe that this is spoken from our hearts.'),\n",
       " Document(id='a748927c-ba05-429c-9016-75459c984891', metadata={'source': 'speech.txt'}, page_content='We have borne with their present government through all these bitter months because of that friendshipâ€”exercising a patience and forbearance which would otherwise have been impossible. We shall, happily, still have an opportunity to prove that friendship in our daily attitude and actions toward the millions of men and women of German birth and native sympathy who live among us and share our life, and we shall be proud to prove it toward all who are in fact loyal to their neighbors and to the government in the hour of test. They are, most of them, as true and loyal Americans as if they had never known any other fealty or allegiance. They will be prompt to stand with us in rebuking and restraining the few who may be of a different mind and purpose. If there should be disloyalty, it will be dealt with with a firm hand of stern repression; but, if it lifts its head at all, it will lift it only here and there and without countenance except from a lawless and malignant few.')]"
      ]
     },
     "execution_count": 23,
     "metadata": {},
     "output_type": "execute_result"
    }
   ],
   "source": [
    "docs_score=db.similarity_search_by_vector(embedding_vector)\n",
    "docs_score"
   ]
  },
  {
   "cell_type": "code",
   "execution_count": 24,
   "metadata": {},
   "outputs": [],
   "source": [
    "### Saving And Loading\n",
    "db.save_local(\"faiss_index\")"
   ]
  },
  {
   "cell_type": "code",
   "execution_count": 25,
   "metadata": {},
   "outputs": [],
   "source": [
    "new_db=FAISS.load_local(\"faiss_index\",embeddings,allow_dangerous_deserialization=True)\n",
    "docs=new_db.similarity_search(query)"
   ]
  },
  {
   "cell_type": "code",
   "execution_count": 26,
   "metadata": {},
   "outputs": [
    {
     "data": {
      "text/plain": [
       "[Document(id='350a7cba-2842-4d25-9342-1b599cef728d', metadata={'source': 'speech.txt'}, page_content='It is a distressing and oppressive duty, gentlemen of the Congress, which I have performed in thus addressing you. There are, it may be, many months of fiery trial and sacrifice ahead of us. It is a fearful thing to lead this great peaceful people into war, into the most terrible and disastrous of all wars, civilization itself seeming to be in the balance. But the right is more precious than peace, and we shall fight for the things which we have always carried nearest our heartsâ€”for democracy, for the right of those who submit to authority to have a voice in their own governments, for the rights and liberties of small nations, for a universal dominion of right by such a concert of free peoples as shall bring peace and safety to all nations and make the world itself at last free.'),\n",
       " Document(id='9c5f623b-88a6-4402-b0d3-8889639a0183', metadata={'source': 'speech.txt'}, page_content='The world must be made safe for democracy. Its peace must be planted upon the tested foundations of political liberty. We have no selfish ends to serve. We desire no conquest, no dominion. We seek no indemnities for ourselves, no material compensation for the sacrifices we shall freely make. We are but one of the champions of the rights of mankind. We shall be satisfied when those rights have been made as secure as the faith and the freedom of nations can make them.\\n\\nJust because we fight without rancor and without selfish object, seeking nothing for ourselves but what we shall wish to share with all free peoples, we shall, I feel confident, conduct our operations as belligerents without passion and ourselves observe with proud punctilio the principles of right and of fair play we profess to be fighting for.\\n\\nâ€¦'),\n",
       " Document(id='d3e94c21-5db1-4cee-910b-c34a872d7522', metadata={'source': 'speech.txt'}, page_content='â€¦\\n\\nIt will be all the easier for us to conduct ourselves as belligerents in a high spirit of right and fairness because we act without animus, not in enmity toward a people or with the desire to bring any injury or disadvantage upon them, but only in armed opposition to an irresponsible government which has thrown aside all considerations of humanity and of right and is running amuck. We are, let me say again, the sincere friends of the German people, and shall desire nothing so much as the early reestablishment of intimate relations of mutual advantage between usâ€”however hard it may be for them, for the time being, to believe that this is spoken from our hearts.'),\n",
       " Document(id='a748927c-ba05-429c-9016-75459c984891', metadata={'source': 'speech.txt'}, page_content='We have borne with their present government through all these bitter months because of that friendshipâ€”exercising a patience and forbearance which would otherwise have been impossible. We shall, happily, still have an opportunity to prove that friendship in our daily attitude and actions toward the millions of men and women of German birth and native sympathy who live among us and share our life, and we shall be proud to prove it toward all who are in fact loyal to their neighbors and to the government in the hour of test. They are, most of them, as true and loyal Americans as if they had never known any other fealty or allegiance. They will be prompt to stand with us in rebuking and restraining the few who may be of a different mind and purpose. If there should be disloyalty, it will be dealt with with a firm hand of stern repression; but, if it lifts its head at all, it will lift it only here and there and without countenance except from a lawless and malignant few.')]"
      ]
     },
     "execution_count": 26,
     "metadata": {},
     "output_type": "execute_result"
    }
   ],
   "source": [
    "docs"
   ]
  },
  {
   "cell_type": "code",
   "execution_count": null,
   "metadata": {},
   "outputs": [],
   "source": []
  },
  {
   "cell_type": "code",
   "execution_count": null,
   "metadata": {},
   "outputs": [],
   "source": []
  },
  {
   "cell_type": "code",
   "execution_count": null,
   "metadata": {},
   "outputs": [],
   "source": []
  },
  {
   "cell_type": "code",
   "execution_count": null,
   "metadata": {},
   "outputs": [],
   "source": []
  },
  {
   "cell_type": "code",
   "execution_count": null,
   "metadata": {},
   "outputs": [],
   "source": []
  }
 ],
 "metadata": {
  "kernelspec": {
   "display_name": "myenv (3.11.0)",
   "language": "python",
   "name": "python3"
  },
  "language_info": {
   "codemirror_mode": {
    "name": "ipython",
    "version": 3
   },
   "file_extension": ".py",
   "mimetype": "text/x-python",
   "name": "python",
   "nbconvert_exporter": "python",
   "pygments_lexer": "ipython3",
   "version": "3.11.0"
  }
 },
 "nbformat": 4,
 "nbformat_minor": 2
}
